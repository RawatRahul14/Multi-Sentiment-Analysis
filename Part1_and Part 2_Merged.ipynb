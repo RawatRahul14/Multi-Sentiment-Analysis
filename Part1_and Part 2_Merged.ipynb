{
 "cells": [
  {
   "cell_type": "markdown",
   "metadata": {},
   "source": [
    "<center><h3 style=\"color:red;\">Mulitclass sentiment analysis</h3></center>"
   ]
  },
  {
   "cell_type": "markdown",
   "metadata": {},
   "source": [
    "<h5>Data Exploration and Cleaning</h5>"
   ]
  },
  {
   "cell_type": "code",
   "execution_count": 1,
   "metadata": {},
   "outputs": [
    {
     "data": {
      "text/html": [
       "<div>\n",
       "<style scoped>\n",
       "    .dataframe tbody tr th:only-of-type {\n",
       "        vertical-align: middle;\n",
       "    }\n",
       "\n",
       "    .dataframe tbody tr th {\n",
       "        vertical-align: top;\n",
       "    }\n",
       "\n",
       "    .dataframe thead th {\n",
       "        text-align: right;\n",
       "    }\n",
       "</style>\n",
       "<table border=\"1\" class=\"dataframe\">\n",
       "  <thead>\n",
       "    <tr style=\"text-align: right;\">\n",
       "      <th></th>\n",
       "      <th>Customer_ID</th>\n",
       "      <th>Name</th>\n",
       "      <th>Age</th>\n",
       "      <th>Annual_Income</th>\n",
       "      <th>Education_Level</th>\n",
       "      <th>Occupation</th>\n",
       "      <th>City</th>\n",
       "      <th>Customer_Reviews</th>\n",
       "      <th>Purchase_Frequency</th>\n",
       "      <th>Product_Category</th>\n",
       "      <th>Target_Variable</th>\n",
       "    </tr>\n",
       "  </thead>\n",
       "  <tbody>\n",
       "    <tr>\n",
       "      <th>0</th>\n",
       "      <td>CUST0001</td>\n",
       "      <td>Customer_1</td>\n",
       "      <td>64.0</td>\n",
       "      <td>77964.61</td>\n",
       "      <td>Bachelor</td>\n",
       "      <td>Engineer</td>\n",
       "      <td>Phoenix</td>\n",
       "      <td>Amazing! Highly recommended. *&amp;</td>\n",
       "      <td>11</td>\n",
       "      <td>NaN</td>\n",
       "      <td>High</td>\n",
       "    </tr>\n",
       "    <tr>\n",
       "      <th>1</th>\n",
       "      <td>CUST0002</td>\n",
       "      <td>Customer_2</td>\n",
       "      <td>24.0</td>\n",
       "      <td>68414.99</td>\n",
       "      <td>High School</td>\n",
       "      <td>NaN</td>\n",
       "      <td>Chicago</td>\n",
       "      <td>Decent quality, but shipping took too long. ##*</td>\n",
       "      <td>17</td>\n",
       "      <td>Books</td>\n",
       "      <td>Low</td>\n",
       "    </tr>\n",
       "    <tr>\n",
       "      <th>2</th>\n",
       "      <td>CUST0003</td>\n",
       "      <td>Customer_3</td>\n",
       "      <td>66.0</td>\n",
       "      <td>93824.94</td>\n",
       "      <td>High School</td>\n",
       "      <td>Engineer</td>\n",
       "      <td>Los Angeles</td>\n",
       "      <td>It's okay, not the best, but does the job. %!</td>\n",
       "      <td>2</td>\n",
       "      <td>Toys</td>\n",
       "      <td>Low</td>\n",
       "    </tr>\n",
       "    <tr>\n",
       "      <th>3</th>\n",
       "      <td>CUST0004</td>\n",
       "      <td>Customer_4</td>\n",
       "      <td>31.0</td>\n",
       "      <td>39551.43</td>\n",
       "      <td>PhD</td>\n",
       "      <td>Engineer</td>\n",
       "      <td>Houston</td>\n",
       "      <td>Great product! Would definitely buy again. ~^#</td>\n",
       "      <td>29</td>\n",
       "      <td>NaN</td>\n",
       "      <td>Low</td>\n",
       "    </tr>\n",
       "    <tr>\n",
       "      <th>4</th>\n",
       "      <td>CUST0005</td>\n",
       "      <td>Customer_5</td>\n",
       "      <td>19.0</td>\n",
       "      <td>41216.05</td>\n",
       "      <td>Bachelor</td>\n",
       "      <td>Teacher</td>\n",
       "      <td>New York</td>\n",
       "      <td>Decent quality, but shipping took too long. $#&amp;</td>\n",
       "      <td>16</td>\n",
       "      <td>Clothing</td>\n",
       "      <td>Medium</td>\n",
       "    </tr>\n",
       "  </tbody>\n",
       "</table>\n",
       "</div>"
      ],
      "text/plain": [
       "  Customer_ID        Name   Age  Annual_Income Education_Level Occupation  \\\n",
       "0    CUST0001  Customer_1  64.0       77964.61        Bachelor   Engineer   \n",
       "1    CUST0002  Customer_2  24.0       68414.99     High School        NaN   \n",
       "2    CUST0003  Customer_3  66.0       93824.94     High School   Engineer   \n",
       "3    CUST0004  Customer_4  31.0       39551.43             PhD   Engineer   \n",
       "4    CUST0005  Customer_5  19.0       41216.05        Bachelor    Teacher   \n",
       "\n",
       "          City                                 Customer_Reviews  \\\n",
       "0      Phoenix                  Amazing! Highly recommended. *&   \n",
       "1      Chicago  Decent quality, but shipping took too long. ##*   \n",
       "2  Los Angeles    It's okay, not the best, but does the job. %!   \n",
       "3      Houston   Great product! Would definitely buy again. ~^#   \n",
       "4     New York  Decent quality, but shipping took too long. $#&   \n",
       "\n",
       "   Purchase_Frequency Product_Category Target_Variable  \n",
       "0                  11              NaN            High  \n",
       "1                  17            Books             Low  \n",
       "2                   2             Toys             Low  \n",
       "3                  29              NaN             Low  \n",
       "4                  16         Clothing          Medium  "
      ]
     },
     "execution_count": 1,
     "metadata": {},
     "output_type": "execute_result"
    }
   ],
   "source": [
    "# Import necessary libraries\n",
    "import pandas as pd\n",
    "# import numpy as np\n",
    "from sklearn.impute import SimpleImputer\n",
    "\n",
    "\n",
    "# Load the dataset\n",
    "file_path = './dataset/Dataset.csv'\n",
    "data = pd.read_csv(file_path)\n",
    "\n",
    "# Display the first few rows of the dataset\n",
    "data.head()"
   ]
  },
  {
   "cell_type": "code",
   "execution_count": 2,
   "metadata": {},
   "outputs": [
    {
     "name": "stdout",
     "output_type": "stream",
     "text": [
      "<class 'pandas.core.frame.DataFrame'>\n",
      "RangeIndex: 1000 entries, 0 to 999\n",
      "Data columns (total 11 columns):\n",
      " #   Column              Non-Null Count  Dtype  \n",
      "---  ------              --------------  -----  \n",
      " 0   Customer_ID         1000 non-null   object \n",
      " 1   Name                1000 non-null   object \n",
      " 2   Age                 950 non-null    float64\n",
      " 3   Annual_Income       950 non-null    float64\n",
      " 4   Education_Level     950 non-null    object \n",
      " 5   Occupation          950 non-null    object \n",
      " 6   City                1000 non-null   object \n",
      " 7   Customer_Reviews    950 non-null    object \n",
      " 8   Purchase_Frequency  1000 non-null   int64  \n",
      " 9   Product_Category    950 non-null    object \n",
      " 10  Target_Variable     1000 non-null   object \n",
      "dtypes: float64(2), int64(1), object(8)\n",
      "memory usage: 86.1+ KB\n"
     ]
    }
   ],
   "source": [
    "# Explore the structure of the dataset\n",
    "data.info()"
   ]
  },
  {
   "cell_type": "markdown",
   "metadata": {},
   "source": [
    "**Justification:** **Age, Annual_Income, Education_Level, Occupation, Customer_Reviews, Product Category** has 50 Null(empty) values so we need to handle it appropriately."
   ]
  },
  {
   "cell_type": "markdown",
   "metadata": {},
   "source": [
    "**Handling Missing values for Numerical columns (Age and Annual_Income)**"
   ]
  },
  {
   "cell_type": "code",
   "execution_count": 3,
   "metadata": {},
   "outputs": [
    {
     "name": "stdout",
     "output_type": "stream",
     "text": [
      "Age is normally distributed (skewness: 0.11361262308662994)\n",
      "Annual_Income is normally distributed (skewness: 0.0019522271387031006)\n"
     ]
    }
   ],
   "source": [
    "#Select Age and Annual Income columns\n",
    "numerical_cols = ['Age', 'Annual_Income']\n",
    "\n",
    "#Check if the numerical columns are normally distributed or not (i.e skewed or not)\n",
    "def check_normal_distribution(data, cols):\n",
    "    for col in cols:\n",
    "        skewness = data[col].skew()\n",
    "        if abs(skewness) > 0.5:\n",
    "            print(f\"{col} is not normally distributed (skewness: {skewness})\")\n",
    "        else:\n",
    "            print(f\"{col} is normally distributed (skewness: {skewness})\")\n",
    "check_normal_distribution(data, numerical_cols)"
   ]
  },
  {
   "cell_type": "markdown",
   "metadata": {},
   "source": [
    "**Justification:** As both columns are normally distributed so we can use mean for filling up the null values."
   ]
  },
  {
   "cell_type": "code",
   "execution_count": 4,
   "metadata": {},
   "outputs": [
    {
     "name": "stdout",
     "output_type": "stream",
     "text": [
      "Null values after imputation:\n",
      "Age              0\n",
      "Annual_Income    0\n",
      "dtype: int64\n"
     ]
    }
   ],
   "source": [
    "# Fill the null values in the numerical columns with the mean\n",
    "mean_imputer = SimpleImputer(strategy='mean')\n",
    "data[numerical_cols] = mean_imputer.fit_transform(data[numerical_cols])\n",
    "\n",
    "#Verify if the null values are filled\n",
    "print(\"Null values after imputation:\")\n",
    "print(data[numerical_cols].isnull().sum())\n"
   ]
  },
  {
   "cell_type": "markdown",
   "metadata": {},
   "source": [
    "**Handling Missing values for Categorical columns (Education_Level, Occupation, Product_Category)**"
   ]
  },
  {
   "cell_type": "code",
   "execution_count": 5,
   "metadata": {},
   "outputs": [
    {
     "name": "stdout",
     "output_type": "stream",
     "text": [
      "Null values after categorical imputation:\n",
      "Education_Level     0\n",
      "Occupation          0\n",
      "Product_Category    0\n",
      "dtype: int64\n"
     ]
    }
   ],
   "source": [
    "categorical_cols = ['Education_Level', 'Occupation', 'Product_Category']\n",
    "\n",
    "cat_imputer = SimpleImputer(strategy='most_frequent')\n",
    "data[categorical_cols] = cat_imputer.fit_transform(data[categorical_cols])\n",
    "\n",
    "# Verify if the null values are filled\n",
    "print(\"Null values after categorical imputation:\")\n",
    "print(data[categorical_cols].isnull().sum())\n"
   ]
  },
  {
   "cell_type": "markdown",
   "metadata": {},
   "source": [
    "For **Customer Reviews(textual data)** we will replace null values with \"No Review\"."
   ]
  },
  {
   "cell_type": "code",
   "execution_count": 6,
   "metadata": {},
   "outputs": [
    {
     "name": "stdout",
     "output_type": "stream",
     "text": [
      "Null values after filling Customer_Reviews:\n",
      "0\n"
     ]
    },
    {
     "name": "stderr",
     "output_type": "stream",
     "text": [
      "/var/folders/5_/vz4sb17j2g7dvq10bqhvfxwc0000gn/T/ipykernel_38918/3984719632.py:2: FutureWarning: A value is trying to be set on a copy of a DataFrame or Series through chained assignment using an inplace method.\n",
      "The behavior will change in pandas 3.0. This inplace method will never work because the intermediate object on which we are setting values always behaves as a copy.\n",
      "\n",
      "For example, when doing 'df[col].method(value, inplace=True)', try using 'df.method({col: value}, inplace=True)' or df[col] = df[col].method(value) instead, to perform the operation inplace on the original object.\n",
      "\n",
      "\n",
      "  data['Customer_Reviews'].fillna('No Review', inplace=True)\n"
     ]
    }
   ],
   "source": [
    "#Replace the null values in customer_Reviews with \"No Review\"\n",
    "data['Customer_Reviews'].fillna('No Review', inplace=True)\n",
    "# Verify if the null values are filled\n",
    "print(\"Null values after filling Customer_Reviews:\")\n",
    "print(data['Customer_Reviews'].isnull().sum())"
   ]
  },
  {
   "cell_type": "markdown",
   "metadata": {},
   "source": [
    "Checking **outliers** in the **Age, Annual_Income, Purchase_Frequency columns**"
   ]
  },
  {
   "cell_type": "code",
   "execution_count": 7,
   "metadata": {},
   "outputs": [
    {
     "data": {
      "image/png": "[encoded data removed]",
      "text/plain": [
       "<Figure size 1200x600 with 3 Axes>"
      ]
     },
     "metadata": {},
     "output_type": "display_data"
    }
   ],
   "source": [
    "#Use the boxplot to check for outliers in the Age, Annual_Income, Purchase_Frequency\n",
    "import matplotlib.pyplot as plt\n",
    "import seaborn as sns\n",
    "plt.figure(figsize=(12, 6))\n",
    "\n",
    "numerical_cols = ['Age', 'Annual_Income', 'Purchase_Frequency']\n",
    "\n",
    "# Create boxplots for each numerical column\n",
    "for col in numerical_cols:\n",
    "    plt.subplot(1, 3, numerical_cols.index(col) + 1)\n",
    "    sns.boxplot(data[col])\n",
    "    plt.title(f'Boxplot of {col}')\n",
    "plt.tight_layout()\n"
   ]
  },
  {
   "cell_type": "markdown",
   "metadata": {},
   "source": [
    "**Justification:** No outliers are in those columns as per the box plot."
   ]
  },
  {
   "cell_type": "code",
   "execution_count": 8,
   "metadata": {},
   "outputs": [],
   "source": [
    "# # Remove outliers using the IQR method\n",
    "# for col in numerical_cols:\n",
    "#     Q1 = data[col].quantile(0.25)\n",
    "#     Q3 = data[col].quantile(0.75)\n",
    "#     IQR = Q3 - Q1\n",
    "#     lower_bound = Q1 - 1.5 * IQR\n",
    "#     upper_bound = Q3 + 1.5 * IQR\n",
    "#     data = data[(data[col] >= lower_bound) & (data[col] <= upper_bound)]\n",
    "\n",
    "# # Verify the dataset shape after removing outliers\n",
    "# print(f\"Dataset shape after removing outliers: {data.shape}\")"
   ]
  },
  {
   "cell_type": "markdown",
   "metadata": {},
   "source": [
    "Data cleaning for **Customer Reviews** columns"
   ]
  },
  {
   "cell_type": "code",
   "execution_count": 9,
   "metadata": {},
   "outputs": [
    {
     "name": "stdout",
     "output_type": "stream",
     "text": [
      "Cleaned Customer_Reviews:\n",
      "0                   amazing highly recommended \n",
      "1    decent quality but shipping took too long \n",
      "2       its okay not the best but does the job \n",
      "3     great product would definitely buy again \n",
      "4    decent quality but shipping took too long \n",
      "Name: Customer_Reviews, dtype: object\n"
     ]
    }
   ],
   "source": [
    "#Remove white spaces (trailing and leading), special characters, and convert to lowercase\n",
    "\n",
    "def clean_text_column(data, col):\n",
    "    data[col] = data[col].str.strip()  # Remove leading and trailing spaces\n",
    "    data[col] = data[col].str.replace(r'[^a-zA-Z0-9\\s]', '', regex=True)  # Remove special characters\n",
    "    data[col] = data[col].str.lower()  # Convert to lowercase\n",
    "    return data\n",
    "\n",
    "clean_text_column(data,'Customer_Reviews')\n",
    "\n",
    "# Verify the cleaned text column\n",
    "print(\"Cleaned Customer_Reviews:\")\n",
    "print(data['Customer_Reviews'].head())\n",
    "\n",
    "\n"
   ]
  },
  {
   "cell_type": "code",
   "execution_count": 10,
   "metadata": {},
   "outputs": [
    {
     "data": {
      "text/plain": [
       "(1000, 11)"
      ]
     },
     "execution_count": 10,
     "metadata": {},
     "output_type": "execute_result"
    }
   ],
   "source": [
    "data.shape"
   ]
  },
  {
   "cell_type": "markdown",
   "metadata": {},
   "source": [
    "<h4>Feature Engineering</h4>"
   ]
  },
  {
   "cell_type": "markdown",
   "metadata": {},
   "source": [
    "Removing **Customer_ID,Name columns** as they don't contribute  anything to target varible(i.e Target_Variable)."
   ]
  },
  {
   "cell_type": "code",
   "execution_count": 11,
   "metadata": {},
   "outputs": [],
   "source": [
    "data = data.drop(['Customer_ID', 'Name'], axis=1)"
   ]
  },
  {
   "cell_type": "code",
   "execution_count": 12,
   "metadata": {},
   "outputs": [
    {
     "name": "stdout",
     "output_type": "stream",
     "text": [
      "<class 'pandas.core.frame.DataFrame'>\n",
      "RangeIndex: 1000 entries, 0 to 999\n",
      "Data columns (total 9 columns):\n",
      " #   Column              Non-Null Count  Dtype  \n",
      "---  ------              --------------  -----  \n",
      " 0   Age                 1000 non-null   float64\n",
      " 1   Annual_Income       1000 non-null   float64\n",
      " 2   Education_Level     1000 non-null   object \n",
      " 3   Occupation          1000 non-null   object \n",
      " 4   City                1000 non-null   object \n",
      " 5   Customer_Reviews    1000 non-null   object \n",
      " 6   Purchase_Frequency  1000 non-null   int64  \n",
      " 7   Product_Category    1000 non-null   object \n",
      " 8   Target_Variable     1000 non-null   object \n",
      "dtypes: float64(2), int64(1), object(6)\n",
      "memory usage: 70.4+ KB\n"
     ]
    }
   ],
   "source": [
    "data.info()"
   ]
  },
  {
   "cell_type": "code",
   "execution_count": 13,
   "metadata": {},
   "outputs": [
    {
     "data": {
      "text/plain": [
       "(1000, 9)"
      ]
     },
     "execution_count": 13,
     "metadata": {},
     "output_type": "execute_result"
    }
   ],
   "source": [
    "data.shape"
   ]
  },
  {
   "cell_type": "markdown",
   "metadata": {},
   "source": [
    "**Justification:** As for model buidling all the values must be in numerical values so for categorical column we need encode those values in the numerical representation."
   ]
  },
  {
   "cell_type": "markdown",
   "metadata": {},
   "source": [
    "- One hot encoding for unorded catgorical columns like **City, Occupation, Product_Category**"
   ]
  },
  {
   "cell_type": "code",
   "execution_count": 14,
   "metadata": {},
   "outputs": [
    {
     "name": "stdout",
     "output_type": "stream",
     "text": [
      "Dataset shape after one-hot encoding: (1000, 19)\n"
     ]
    }
   ],
   "source": [
    "unordered_cols = ['Occupation', 'City', 'Product_Category']\n",
    "\n",
    "\n",
    "#Use get_dummies to convert categorical variables into dummy/indicator variables \n",
    "data = pd.get_dummies(data, columns=unordered_cols, drop_first=True) \n",
    "\n",
    "\n",
    "\n",
    "# Verify the shape of the dataset after one-hot encoding\n",
    "print(f\"Dataset shape after one-hot encoding: {data.shape}\")"
   ]
  },
  {
   "cell_type": "code",
   "execution_count": 15,
   "metadata": {},
   "outputs": [
    {
     "data": {
      "text/html": [
       "<div>\n",
       "<style scoped>\n",
       "    .dataframe tbody tr th:only-of-type {\n",
       "        vertical-align: middle;\n",
       "    }\n",
       "\n",
       "    .dataframe tbody tr th {\n",
       "        vertical-align: top;\n",
       "    }\n",
       "\n",
       "    .dataframe thead th {\n",
       "        text-align: right;\n",
       "    }\n",
       "</style>\n",
       "<table border=\"1\" class=\"dataframe\">\n",
       "  <thead>\n",
       "    <tr style=\"text-align: right;\">\n",
       "      <th></th>\n",
       "      <th>Age</th>\n",
       "      <th>Annual_Income</th>\n",
       "      <th>Education_Level</th>\n",
       "      <th>Customer_Reviews</th>\n",
       "      <th>Purchase_Frequency</th>\n",
       "      <th>Target_Variable</th>\n",
       "      <th>Occupation_Doctor</th>\n",
       "      <th>Occupation_Engineer</th>\n",
       "      <th>Occupation_Lawyer</th>\n",
       "      <th>Occupation_Scientist</th>\n",
       "      <th>Occupation_Teacher</th>\n",
       "      <th>City_Houston</th>\n",
       "      <th>City_Los Angeles</th>\n",
       "      <th>City_New York</th>\n",
       "      <th>City_Phoenix</th>\n",
       "      <th>Product_Category_Clothing</th>\n",
       "      <th>Product_Category_Electronics</th>\n",
       "      <th>Product_Category_Home Appliances</th>\n",
       "      <th>Product_Category_Toys</th>\n",
       "    </tr>\n",
       "  </thead>\n",
       "  <tbody>\n",
       "    <tr>\n",
       "      <th>0</th>\n",
       "      <td>64.0</td>\n",
       "      <td>77964.61</td>\n",
       "      <td>Bachelor</td>\n",
       "      <td>amazing highly recommended</td>\n",
       "      <td>11</td>\n",
       "      <td>High</td>\n",
       "      <td>False</td>\n",
       "      <td>True</td>\n",
       "      <td>False</td>\n",
       "      <td>False</td>\n",
       "      <td>False</td>\n",
       "      <td>False</td>\n",
       "      <td>False</td>\n",
       "      <td>False</td>\n",
       "      <td>True</td>\n",
       "      <td>False</td>\n",
       "      <td>False</td>\n",
       "      <td>True</td>\n",
       "      <td>False</td>\n",
       "    </tr>\n",
       "    <tr>\n",
       "      <th>1</th>\n",
       "      <td>24.0</td>\n",
       "      <td>68414.99</td>\n",
       "      <td>High School</td>\n",
       "      <td>decent quality but shipping took too long</td>\n",
       "      <td>17</td>\n",
       "      <td>Low</td>\n",
       "      <td>False</td>\n",
       "      <td>False</td>\n",
       "      <td>False</td>\n",
       "      <td>False</td>\n",
       "      <td>False</td>\n",
       "      <td>False</td>\n",
       "      <td>False</td>\n",
       "      <td>False</td>\n",
       "      <td>False</td>\n",
       "      <td>False</td>\n",
       "      <td>False</td>\n",
       "      <td>False</td>\n",
       "      <td>False</td>\n",
       "    </tr>\n",
       "    <tr>\n",
       "      <th>2</th>\n",
       "      <td>66.0</td>\n",
       "      <td>93824.94</td>\n",
       "      <td>High School</td>\n",
       "      <td>its okay not the best but does the job</td>\n",
       "      <td>2</td>\n",
       "      <td>Low</td>\n",
       "      <td>False</td>\n",
       "      <td>True</td>\n",
       "      <td>False</td>\n",
       "      <td>False</td>\n",
       "      <td>False</td>\n",
       "      <td>False</td>\n",
       "      <td>True</td>\n",
       "      <td>False</td>\n",
       "      <td>False</td>\n",
       "      <td>False</td>\n",
       "      <td>False</td>\n",
       "      <td>False</td>\n",
       "      <td>True</td>\n",
       "    </tr>\n",
       "    <tr>\n",
       "      <th>3</th>\n",
       "      <td>31.0</td>\n",
       "      <td>39551.43</td>\n",
       "      <td>PhD</td>\n",
       "      <td>great product would definitely buy again</td>\n",
       "      <td>29</td>\n",
       "      <td>Low</td>\n",
       "      <td>False</td>\n",
       "      <td>True</td>\n",
       "      <td>False</td>\n",
       "      <td>False</td>\n",
       "      <td>False</td>\n",
       "      <td>True</td>\n",
       "      <td>False</td>\n",
       "      <td>False</td>\n",
       "      <td>False</td>\n",
       "      <td>False</td>\n",
       "      <td>False</td>\n",
       "      <td>True</td>\n",
       "      <td>False</td>\n",
       "    </tr>\n",
       "    <tr>\n",
       "      <th>4</th>\n",
       "      <td>19.0</td>\n",
       "      <td>41216.05</td>\n",
       "      <td>Bachelor</td>\n",
       "      <td>decent quality but shipping took too long</td>\n",
       "      <td>16</td>\n",
       "      <td>Medium</td>\n",
       "      <td>False</td>\n",
       "      <td>False</td>\n",
       "      <td>False</td>\n",
       "      <td>False</td>\n",
       "      <td>True</td>\n",
       "      <td>False</td>\n",
       "      <td>False</td>\n",
       "      <td>True</td>\n",
       "      <td>False</td>\n",
       "      <td>True</td>\n",
       "      <td>False</td>\n",
       "      <td>False</td>\n",
       "      <td>False</td>\n",
       "    </tr>\n",
       "  </tbody>\n",
       "</table>\n",
       "</div>"
      ],
      "text/plain": [
       "    Age  Annual_Income Education_Level  \\\n",
       "0  64.0       77964.61        Bachelor   \n",
       "1  24.0       68414.99     High School   \n",
       "2  66.0       93824.94     High School   \n",
       "3  31.0       39551.43             PhD   \n",
       "4  19.0       41216.05        Bachelor   \n",
       "\n",
       "                             Customer_Reviews  Purchase_Frequency  \\\n",
       "0                 amazing highly recommended                   11   \n",
       "1  decent quality but shipping took too long                   17   \n",
       "2     its okay not the best but does the job                    2   \n",
       "3   great product would definitely buy again                   29   \n",
       "4  decent quality but shipping took too long                   16   \n",
       "\n",
       "  Target_Variable  Occupation_Doctor  Occupation_Engineer  Occupation_Lawyer  \\\n",
       "0            High              False                 True              False   \n",
       "1             Low              False                False              False   \n",
       "2             Low              False                 True              False   \n",
       "3             Low              False                 True              False   \n",
       "4          Medium              False                False              False   \n",
       "\n",
       "   Occupation_Scientist  Occupation_Teacher  City_Houston  City_Los Angeles  \\\n",
       "0                 False               False         False             False   \n",
       "1                 False               False         False             False   \n",
       "2                 False               False         False              True   \n",
       "3                 False               False          True             False   \n",
       "4                 False                True         False             False   \n",
       "\n",
       "   City_New York  City_Phoenix  Product_Category_Clothing  \\\n",
       "0          False          True                      False   \n",
       "1          False         False                      False   \n",
       "2          False         False                      False   \n",
       "3          False         False                      False   \n",
       "4           True         False                       True   \n",
       "\n",
       "   Product_Category_Electronics  Product_Category_Home Appliances  \\\n",
       "0                         False                              True   \n",
       "1                         False                             False   \n",
       "2                         False                             False   \n",
       "3                         False                              True   \n",
       "4                         False                             False   \n",
       "\n",
       "   Product_Category_Toys  \n",
       "0                  False  \n",
       "1                  False  \n",
       "2                   True  \n",
       "3                  False  \n",
       "4                  False  "
      ]
     },
     "execution_count": 15,
     "metadata": {},
     "output_type": "execute_result"
    }
   ],
   "source": [
    "data.head()"
   ]
  },
  {
   "cell_type": "markdown",
   "metadata": {},
   "source": [
    "- Ordinal Encoding for ordered categorical column (**i.e Education Level**)"
   ]
  },
  {
   "cell_type": "code",
   "execution_count": 16,
   "metadata": {},
   "outputs": [
    {
     "name": "stdout",
     "output_type": "stream",
     "text": [
      "Ordinal encoding for Education_Level:\n",
      "0    1.0\n",
      "1    0.0\n",
      "2    0.0\n",
      "3    3.0\n",
      "4    1.0\n",
      "Name: Education_Level, dtype: float64\n"
     ]
    }
   ],
   "source": [
    "#Ordinal encoding for Education_Level\n",
    "from sklearn.preprocessing import OrdinalEncoder\n",
    "\n",
    "education_order = [['High School', 'Bachelor', 'Master', 'PhD']]\n",
    "ord_enc = OrdinalEncoder(categories=education_order)\n",
    "data['Education_Level'] = ord_enc.fit_transform(data[['Education_Level']])\n",
    "\n",
    "# Verify the ordinal encoding\n",
    "print(\"Ordinal encoding for Education_Level:\")\n",
    "print(data['Education_Level'].head())"
   ]
  },
  {
   "cell_type": "code",
   "execution_count": 17,
   "metadata": {},
   "outputs": [
    {
     "data": {
      "text/html": [
       "<div>\n",
       "<style scoped>\n",
       "    .dataframe tbody tr th:only-of-type {\n",
       "        vertical-align: middle;\n",
       "    }\n",
       "\n",
       "    .dataframe tbody tr th {\n",
       "        vertical-align: top;\n",
       "    }\n",
       "\n",
       "    .dataframe thead th {\n",
       "        text-align: right;\n",
       "    }\n",
       "</style>\n",
       "<table border=\"1\" class=\"dataframe\">\n",
       "  <thead>\n",
       "    <tr style=\"text-align: right;\">\n",
       "      <th></th>\n",
       "      <th>Age</th>\n",
       "      <th>Annual_Income</th>\n",
       "      <th>Education_Level</th>\n",
       "      <th>Customer_Reviews</th>\n",
       "      <th>Purchase_Frequency</th>\n",
       "      <th>Target_Variable</th>\n",
       "      <th>Occupation_Doctor</th>\n",
       "      <th>Occupation_Engineer</th>\n",
       "      <th>Occupation_Lawyer</th>\n",
       "      <th>Occupation_Scientist</th>\n",
       "      <th>Occupation_Teacher</th>\n",
       "      <th>City_Houston</th>\n",
       "      <th>City_Los Angeles</th>\n",
       "      <th>City_New York</th>\n",
       "      <th>City_Phoenix</th>\n",
       "      <th>Product_Category_Clothing</th>\n",
       "      <th>Product_Category_Electronics</th>\n",
       "      <th>Product_Category_Home Appliances</th>\n",
       "      <th>Product_Category_Toys</th>\n",
       "    </tr>\n",
       "  </thead>\n",
       "  <tbody>\n",
       "    <tr>\n",
       "      <th>0</th>\n",
       "      <td>64.0</td>\n",
       "      <td>77964.61</td>\n",
       "      <td>1.0</td>\n",
       "      <td>amazing highly recommended</td>\n",
       "      <td>11</td>\n",
       "      <td>High</td>\n",
       "      <td>False</td>\n",
       "      <td>True</td>\n",
       "      <td>False</td>\n",
       "      <td>False</td>\n",
       "      <td>False</td>\n",
       "      <td>False</td>\n",
       "      <td>False</td>\n",
       "      <td>False</td>\n",
       "      <td>True</td>\n",
       "      <td>False</td>\n",
       "      <td>False</td>\n",
       "      <td>True</td>\n",
       "      <td>False</td>\n",
       "    </tr>\n",
       "    <tr>\n",
       "      <th>1</th>\n",
       "      <td>24.0</td>\n",
       "      <td>68414.99</td>\n",
       "      <td>0.0</td>\n",
       "      <td>decent quality but shipping took too long</td>\n",
       "      <td>17</td>\n",
       "      <td>Low</td>\n",
       "      <td>False</td>\n",
       "      <td>False</td>\n",
       "      <td>False</td>\n",
       "      <td>False</td>\n",
       "      <td>False</td>\n",
       "      <td>False</td>\n",
       "      <td>False</td>\n",
       "      <td>False</td>\n",
       "      <td>False</td>\n",
       "      <td>False</td>\n",
       "      <td>False</td>\n",
       "      <td>False</td>\n",
       "      <td>False</td>\n",
       "    </tr>\n",
       "    <tr>\n",
       "      <th>2</th>\n",
       "      <td>66.0</td>\n",
       "      <td>93824.94</td>\n",
       "      <td>0.0</td>\n",
       "      <td>its okay not the best but does the job</td>\n",
       "      <td>2</td>\n",
       "      <td>Low</td>\n",
       "      <td>False</td>\n",
       "      <td>True</td>\n",
       "      <td>False</td>\n",
       "      <td>False</td>\n",
       "      <td>False</td>\n",
       "      <td>False</td>\n",
       "      <td>True</td>\n",
       "      <td>False</td>\n",
       "      <td>False</td>\n",
       "      <td>False</td>\n",
       "      <td>False</td>\n",
       "      <td>False</td>\n",
       "      <td>True</td>\n",
       "    </tr>\n",
       "    <tr>\n",
       "      <th>3</th>\n",
       "      <td>31.0</td>\n",
       "      <td>39551.43</td>\n",
       "      <td>3.0</td>\n",
       "      <td>great product would definitely buy again</td>\n",
       "      <td>29</td>\n",
       "      <td>Low</td>\n",
       "      <td>False</td>\n",
       "      <td>True</td>\n",
       "      <td>False</td>\n",
       "      <td>False</td>\n",
       "      <td>False</td>\n",
       "      <td>True</td>\n",
       "      <td>False</td>\n",
       "      <td>False</td>\n",
       "      <td>False</td>\n",
       "      <td>False</td>\n",
       "      <td>False</td>\n",
       "      <td>True</td>\n",
       "      <td>False</td>\n",
       "    </tr>\n",
       "    <tr>\n",
       "      <th>4</th>\n",
       "      <td>19.0</td>\n",
       "      <td>41216.05</td>\n",
       "      <td>1.0</td>\n",
       "      <td>decent quality but shipping took too long</td>\n",
       "      <td>16</td>\n",
       "      <td>Medium</td>\n",
       "      <td>False</td>\n",
       "      <td>False</td>\n",
       "      <td>False</td>\n",
       "      <td>False</td>\n",
       "      <td>True</td>\n",
       "      <td>False</td>\n",
       "      <td>False</td>\n",
       "      <td>True</td>\n",
       "      <td>False</td>\n",
       "      <td>True</td>\n",
       "      <td>False</td>\n",
       "      <td>False</td>\n",
       "      <td>False</td>\n",
       "    </tr>\n",
       "  </tbody>\n",
       "</table>\n",
       "</div>"
      ],
      "text/plain": [
       "    Age  Annual_Income  Education_Level  \\\n",
       "0  64.0       77964.61              1.0   \n",
       "1  24.0       68414.99              0.0   \n",
       "2  66.0       93824.94              0.0   \n",
       "3  31.0       39551.43              3.0   \n",
       "4  19.0       41216.05              1.0   \n",
       "\n",
       "                             Customer_Reviews  Purchase_Frequency  \\\n",
       "0                 amazing highly recommended                   11   \n",
       "1  decent quality but shipping took too long                   17   \n",
       "2     its okay not the best but does the job                    2   \n",
       "3   great product would definitely buy again                   29   \n",
       "4  decent quality but shipping took too long                   16   \n",
       "\n",
       "  Target_Variable  Occupation_Doctor  Occupation_Engineer  Occupation_Lawyer  \\\n",
       "0            High              False                 True              False   \n",
       "1             Low              False                False              False   \n",
       "2             Low              False                 True              False   \n",
       "3             Low              False                 True              False   \n",
       "4          Medium              False                False              False   \n",
       "\n",
       "   Occupation_Scientist  Occupation_Teacher  City_Houston  City_Los Angeles  \\\n",
       "0                 False               False         False             False   \n",
       "1                 False               False         False             False   \n",
       "2                 False               False         False              True   \n",
       "3                 False               False          True             False   \n",
       "4                 False                True         False             False   \n",
       "\n",
       "   City_New York  City_Phoenix  Product_Category_Clothing  \\\n",
       "0          False          True                      False   \n",
       "1          False         False                      False   \n",
       "2          False         False                      False   \n",
       "3          False         False                      False   \n",
       "4           True         False                       True   \n",
       "\n",
       "   Product_Category_Electronics  Product_Category_Home Appliances  \\\n",
       "0                         False                              True   \n",
       "1                         False                             False   \n",
       "2                         False                             False   \n",
       "3                         False                              True   \n",
       "4                         False                             False   \n",
       "\n",
       "   Product_Category_Toys  \n",
       "0                  False  \n",
       "1                  False  \n",
       "2                   True  \n",
       "3                  False  \n",
       "4                  False  "
      ]
     },
     "execution_count": 17,
     "metadata": {},
     "output_type": "execute_result"
    }
   ],
   "source": [
    "data.head()"
   ]
  },
  {
   "cell_type": "markdown",
   "metadata": {},
   "source": [
    "- For textual data (i.e **Customer_Reviews**) is still in free text format so we need to encode it as well for this we will be using various  feature engineering techniques like TD-IDF."
   ]
  },
  {
   "cell_type": "code",
   "execution_count": 18,
   "metadata": {},
   "outputs": [
    {
     "name": "stdout",
     "output_type": "stream",
     "text": [
      "Dataset shape after TF-IDF transformation: (1000, 53)\n"
     ]
    }
   ],
   "source": [
    "#Import tfidf\n",
    "from sklearn.feature_extraction.text import TfidfVectorizer\n",
    "\n",
    "# Create a TfidfVectorizer object\n",
    "tfidf_vectorizer = TfidfVectorizer(stop_words='english')\n",
    "\n",
    "# Fit and transform the Customer_Reviews column\n",
    "tfidf_matrix = tfidf_vectorizer.fit_transform(data['Customer_Reviews'])\n",
    "\n",
    "# Convert the tfidf_matrix to a DataFrame\n",
    "tfidf_df = pd.DataFrame(tfidf_matrix.toarray(), columns=tfidf_vectorizer.get_feature_names_out())\n",
    "\n",
    "# Concatenate the original data with the tfidf_df\n",
    "data = pd.concat([data, tfidf_df], axis=1)\n",
    "\n",
    "# Drop the original Customer_Reviews column\n",
    "data.drop('Customer_Reviews', axis=1, inplace=True)\n",
    "\n",
    "# Verify the shape of the dataset after TF-IDF transformation\n",
    "print(f\"Dataset shape after TF-IDF transformation: {data.shape}\")"
   ]
  },
  {
   "cell_type": "code",
   "execution_count": 19,
   "metadata": {},
   "outputs": [
    {
     "data": {
      "text/html": [
       "<div>\n",
       "<style scoped>\n",
       "    .dataframe tbody tr th:only-of-type {\n",
       "        vertical-align: middle;\n",
       "    }\n",
       "\n",
       "    .dataframe tbody tr th {\n",
       "        vertical-align: top;\n",
       "    }\n",
       "\n",
       "    .dataframe thead th {\n",
       "        text-align: right;\n",
       "    }\n",
       "</style>\n",
       "<table border=\"1\" class=\"dataframe\">\n",
       "  <thead>\n",
       "    <tr style=\"text-align: right;\">\n",
       "      <th></th>\n",
       "      <th>amazing</th>\n",
       "      <th>best</th>\n",
       "      <th>better</th>\n",
       "      <th>buy</th>\n",
       "      <th>customer</th>\n",
       "      <th>damaged</th>\n",
       "      <th>decent</th>\n",
       "      <th>definitely</th>\n",
       "      <th>disappointed</th>\n",
       "      <th>does</th>\n",
       "      <th>...</th>\n",
       "      <th>purchase</th>\n",
       "      <th>quality</th>\n",
       "      <th>recommended</th>\n",
       "      <th>review</th>\n",
       "      <th>service</th>\n",
       "      <th>shipping</th>\n",
       "      <th>shopping</th>\n",
       "      <th>terrible</th>\n",
       "      <th>took</th>\n",
       "      <th>worst</th>\n",
       "    </tr>\n",
       "  </thead>\n",
       "  <tbody>\n",
       "    <tr>\n",
       "      <th>0</th>\n",
       "      <td>0.57735</td>\n",
       "      <td>0.0</td>\n",
       "      <td>0.0</td>\n",
       "      <td>0.000000</td>\n",
       "      <td>0.0</td>\n",
       "      <td>0.0</td>\n",
       "      <td>0.000000</td>\n",
       "      <td>0.000000</td>\n",
       "      <td>0.0</td>\n",
       "      <td>0.0</td>\n",
       "      <td>...</td>\n",
       "      <td>0.0</td>\n",
       "      <td>0.000000</td>\n",
       "      <td>0.57735</td>\n",
       "      <td>0.0</td>\n",
       "      <td>0.0</td>\n",
       "      <td>0.000000</td>\n",
       "      <td>0.0</td>\n",
       "      <td>0.0</td>\n",
       "      <td>0.000000</td>\n",
       "      <td>0.0</td>\n",
       "    </tr>\n",
       "    <tr>\n",
       "      <th>1</th>\n",
       "      <td>0.00000</td>\n",
       "      <td>0.0</td>\n",
       "      <td>0.0</td>\n",
       "      <td>0.000000</td>\n",
       "      <td>0.0</td>\n",
       "      <td>0.0</td>\n",
       "      <td>0.447214</td>\n",
       "      <td>0.000000</td>\n",
       "      <td>0.0</td>\n",
       "      <td>0.0</td>\n",
       "      <td>...</td>\n",
       "      <td>0.0</td>\n",
       "      <td>0.447214</td>\n",
       "      <td>0.00000</td>\n",
       "      <td>0.0</td>\n",
       "      <td>0.0</td>\n",
       "      <td>0.447214</td>\n",
       "      <td>0.0</td>\n",
       "      <td>0.0</td>\n",
       "      <td>0.447214</td>\n",
       "      <td>0.0</td>\n",
       "    </tr>\n",
       "    <tr>\n",
       "      <th>2</th>\n",
       "      <td>0.00000</td>\n",
       "      <td>0.5</td>\n",
       "      <td>0.0</td>\n",
       "      <td>0.000000</td>\n",
       "      <td>0.0</td>\n",
       "      <td>0.0</td>\n",
       "      <td>0.000000</td>\n",
       "      <td>0.000000</td>\n",
       "      <td>0.0</td>\n",
       "      <td>0.5</td>\n",
       "      <td>...</td>\n",
       "      <td>0.0</td>\n",
       "      <td>0.000000</td>\n",
       "      <td>0.00000</td>\n",
       "      <td>0.0</td>\n",
       "      <td>0.0</td>\n",
       "      <td>0.000000</td>\n",
       "      <td>0.0</td>\n",
       "      <td>0.0</td>\n",
       "      <td>0.000000</td>\n",
       "      <td>0.0</td>\n",
       "    </tr>\n",
       "    <tr>\n",
       "      <th>3</th>\n",
       "      <td>0.00000</td>\n",
       "      <td>0.0</td>\n",
       "      <td>0.0</td>\n",
       "      <td>0.525585</td>\n",
       "      <td>0.0</td>\n",
       "      <td>0.0</td>\n",
       "      <td>0.000000</td>\n",
       "      <td>0.525585</td>\n",
       "      <td>0.0</td>\n",
       "      <td>0.0</td>\n",
       "      <td>...</td>\n",
       "      <td>0.0</td>\n",
       "      <td>0.000000</td>\n",
       "      <td>0.00000</td>\n",
       "      <td>0.0</td>\n",
       "      <td>0.0</td>\n",
       "      <td>0.000000</td>\n",
       "      <td>0.0</td>\n",
       "      <td>0.0</td>\n",
       "      <td>0.000000</td>\n",
       "      <td>0.0</td>\n",
       "    </tr>\n",
       "    <tr>\n",
       "      <th>4</th>\n",
       "      <td>0.00000</td>\n",
       "      <td>0.0</td>\n",
       "      <td>0.0</td>\n",
       "      <td>0.000000</td>\n",
       "      <td>0.0</td>\n",
       "      <td>0.0</td>\n",
       "      <td>0.447214</td>\n",
       "      <td>0.000000</td>\n",
       "      <td>0.0</td>\n",
       "      <td>0.0</td>\n",
       "      <td>...</td>\n",
       "      <td>0.0</td>\n",
       "      <td>0.447214</td>\n",
       "      <td>0.00000</td>\n",
       "      <td>0.0</td>\n",
       "      <td>0.0</td>\n",
       "      <td>0.447214</td>\n",
       "      <td>0.0</td>\n",
       "      <td>0.0</td>\n",
       "      <td>0.447214</td>\n",
       "      <td>0.0</td>\n",
       "    </tr>\n",
       "  </tbody>\n",
       "</table>\n",
       "<p>5 rows × 35 columns</p>\n",
       "</div>"
      ],
      "text/plain": [
       "   amazing  best  better       buy  customer  damaged    decent  definitely  \\\n",
       "0  0.57735   0.0     0.0  0.000000       0.0      0.0  0.000000    0.000000   \n",
       "1  0.00000   0.0     0.0  0.000000       0.0      0.0  0.447214    0.000000   \n",
       "2  0.00000   0.5     0.0  0.000000       0.0      0.0  0.000000    0.000000   \n",
       "3  0.00000   0.0     0.0  0.525585       0.0      0.0  0.000000    0.525585   \n",
       "4  0.00000   0.0     0.0  0.000000       0.0      0.0  0.447214    0.000000   \n",
       "\n",
       "   disappointed  does  ...  purchase   quality  recommended  review  service  \\\n",
       "0           0.0   0.0  ...       0.0  0.000000      0.57735     0.0      0.0   \n",
       "1           0.0   0.0  ...       0.0  0.447214      0.00000     0.0      0.0   \n",
       "2           0.0   0.5  ...       0.0  0.000000      0.00000     0.0      0.0   \n",
       "3           0.0   0.0  ...       0.0  0.000000      0.00000     0.0      0.0   \n",
       "4           0.0   0.0  ...       0.0  0.447214      0.00000     0.0      0.0   \n",
       "\n",
       "   shipping  shopping  terrible      took  worst  \n",
       "0  0.000000       0.0       0.0  0.000000    0.0  \n",
       "1  0.447214       0.0       0.0  0.447214    0.0  \n",
       "2  0.000000       0.0       0.0  0.000000    0.0  \n",
       "3  0.000000       0.0       0.0  0.000000    0.0  \n",
       "4  0.447214       0.0       0.0  0.447214    0.0  \n",
       "\n",
       "[5 rows x 35 columns]"
      ]
     },
     "execution_count": 19,
     "metadata": {},
     "output_type": "execute_result"
    }
   ],
   "source": [
    "tfidf_df.head()"
   ]
  },
  {
   "cell_type": "code",
   "execution_count": 20,
   "metadata": {},
   "outputs": [
    {
     "data": {
      "text/html": [
       "<div>\n",
       "<style scoped>\n",
       "    .dataframe tbody tr th:only-of-type {\n",
       "        vertical-align: middle;\n",
       "    }\n",
       "\n",
       "    .dataframe tbody tr th {\n",
       "        vertical-align: top;\n",
       "    }\n",
       "\n",
       "    .dataframe thead th {\n",
       "        text-align: right;\n",
       "    }\n",
       "</style>\n",
       "<table border=\"1\" class=\"dataframe\">\n",
       "  <thead>\n",
       "    <tr style=\"text-align: right;\">\n",
       "      <th></th>\n",
       "      <th>Age</th>\n",
       "      <th>Annual_Income</th>\n",
       "      <th>Education_Level</th>\n",
       "      <th>Purchase_Frequency</th>\n",
       "      <th>Target_Variable</th>\n",
       "      <th>Occupation_Doctor</th>\n",
       "      <th>Occupation_Engineer</th>\n",
       "      <th>Occupation_Lawyer</th>\n",
       "      <th>Occupation_Scientist</th>\n",
       "      <th>Occupation_Teacher</th>\n",
       "      <th>...</th>\n",
       "      <th>purchase</th>\n",
       "      <th>quality</th>\n",
       "      <th>recommended</th>\n",
       "      <th>review</th>\n",
       "      <th>service</th>\n",
       "      <th>shipping</th>\n",
       "      <th>shopping</th>\n",
       "      <th>terrible</th>\n",
       "      <th>took</th>\n",
       "      <th>worst</th>\n",
       "    </tr>\n",
       "  </thead>\n",
       "  <tbody>\n",
       "    <tr>\n",
       "      <th>0</th>\n",
       "      <td>64.0</td>\n",
       "      <td>77964.61</td>\n",
       "      <td>1.0</td>\n",
       "      <td>11</td>\n",
       "      <td>High</td>\n",
       "      <td>False</td>\n",
       "      <td>True</td>\n",
       "      <td>False</td>\n",
       "      <td>False</td>\n",
       "      <td>False</td>\n",
       "      <td>...</td>\n",
       "      <td>0.0</td>\n",
       "      <td>0.000000</td>\n",
       "      <td>0.57735</td>\n",
       "      <td>0.0</td>\n",
       "      <td>0.0</td>\n",
       "      <td>0.000000</td>\n",
       "      <td>0.0</td>\n",
       "      <td>0.0</td>\n",
       "      <td>0.000000</td>\n",
       "      <td>0.0</td>\n",
       "    </tr>\n",
       "    <tr>\n",
       "      <th>1</th>\n",
       "      <td>24.0</td>\n",
       "      <td>68414.99</td>\n",
       "      <td>0.0</td>\n",
       "      <td>17</td>\n",
       "      <td>Low</td>\n",
       "      <td>False</td>\n",
       "      <td>False</td>\n",
       "      <td>False</td>\n",
       "      <td>False</td>\n",
       "      <td>False</td>\n",
       "      <td>...</td>\n",
       "      <td>0.0</td>\n",
       "      <td>0.447214</td>\n",
       "      <td>0.00000</td>\n",
       "      <td>0.0</td>\n",
       "      <td>0.0</td>\n",
       "      <td>0.447214</td>\n",
       "      <td>0.0</td>\n",
       "      <td>0.0</td>\n",
       "      <td>0.447214</td>\n",
       "      <td>0.0</td>\n",
       "    </tr>\n",
       "    <tr>\n",
       "      <th>2</th>\n",
       "      <td>66.0</td>\n",
       "      <td>93824.94</td>\n",
       "      <td>0.0</td>\n",
       "      <td>2</td>\n",
       "      <td>Low</td>\n",
       "      <td>False</td>\n",
       "      <td>True</td>\n",
       "      <td>False</td>\n",
       "      <td>False</td>\n",
       "      <td>False</td>\n",
       "      <td>...</td>\n",
       "      <td>0.0</td>\n",
       "      <td>0.000000</td>\n",
       "      <td>0.00000</td>\n",
       "      <td>0.0</td>\n",
       "      <td>0.0</td>\n",
       "      <td>0.000000</td>\n",
       "      <td>0.0</td>\n",
       "      <td>0.0</td>\n",
       "      <td>0.000000</td>\n",
       "      <td>0.0</td>\n",
       "    </tr>\n",
       "    <tr>\n",
       "      <th>3</th>\n",
       "      <td>31.0</td>\n",
       "      <td>39551.43</td>\n",
       "      <td>3.0</td>\n",
       "      <td>29</td>\n",
       "      <td>Low</td>\n",
       "      <td>False</td>\n",
       "      <td>True</td>\n",
       "      <td>False</td>\n",
       "      <td>False</td>\n",
       "      <td>False</td>\n",
       "      <td>...</td>\n",
       "      <td>0.0</td>\n",
       "      <td>0.000000</td>\n",
       "      <td>0.00000</td>\n",
       "      <td>0.0</td>\n",
       "      <td>0.0</td>\n",
       "      <td>0.000000</td>\n",
       "      <td>0.0</td>\n",
       "      <td>0.0</td>\n",
       "      <td>0.000000</td>\n",
       "      <td>0.0</td>\n",
       "    </tr>\n",
       "    <tr>\n",
       "      <th>4</th>\n",
       "      <td>19.0</td>\n",
       "      <td>41216.05</td>\n",
       "      <td>1.0</td>\n",
       "      <td>16</td>\n",
       "      <td>Medium</td>\n",
       "      <td>False</td>\n",
       "      <td>False</td>\n",
       "      <td>False</td>\n",
       "      <td>False</td>\n",
       "      <td>True</td>\n",
       "      <td>...</td>\n",
       "      <td>0.0</td>\n",
       "      <td>0.447214</td>\n",
       "      <td>0.00000</td>\n",
       "      <td>0.0</td>\n",
       "      <td>0.0</td>\n",
       "      <td>0.447214</td>\n",
       "      <td>0.0</td>\n",
       "      <td>0.0</td>\n",
       "      <td>0.447214</td>\n",
       "      <td>0.0</td>\n",
       "    </tr>\n",
       "  </tbody>\n",
       "</table>\n",
       "<p>5 rows × 53 columns</p>\n",
       "</div>"
      ],
      "text/plain": [
       "    Age  Annual_Income  Education_Level  Purchase_Frequency Target_Variable  \\\n",
       "0  64.0       77964.61              1.0                  11            High   \n",
       "1  24.0       68414.99              0.0                  17             Low   \n",
       "2  66.0       93824.94              0.0                   2             Low   \n",
       "3  31.0       39551.43              3.0                  29             Low   \n",
       "4  19.0       41216.05              1.0                  16          Medium   \n",
       "\n",
       "   Occupation_Doctor  Occupation_Engineer  Occupation_Lawyer  \\\n",
       "0              False                 True              False   \n",
       "1              False                False              False   \n",
       "2              False                 True              False   \n",
       "3              False                 True              False   \n",
       "4              False                False              False   \n",
       "\n",
       "   Occupation_Scientist  Occupation_Teacher  ...  purchase   quality  \\\n",
       "0                 False               False  ...       0.0  0.000000   \n",
       "1                 False               False  ...       0.0  0.447214   \n",
       "2                 False               False  ...       0.0  0.000000   \n",
       "3                 False               False  ...       0.0  0.000000   \n",
       "4                 False                True  ...       0.0  0.447214   \n",
       "\n",
       "   recommended  review  service  shipping  shopping  terrible      took  worst  \n",
       "0      0.57735     0.0      0.0  0.000000       0.0       0.0  0.000000    0.0  \n",
       "1      0.00000     0.0      0.0  0.447214       0.0       0.0  0.447214    0.0  \n",
       "2      0.00000     0.0      0.0  0.000000       0.0       0.0  0.000000    0.0  \n",
       "3      0.00000     0.0      0.0  0.000000       0.0       0.0  0.000000    0.0  \n",
       "4      0.00000     0.0      0.0  0.447214       0.0       0.0  0.447214    0.0  \n",
       "\n",
       "[5 rows x 53 columns]"
      ]
     },
     "execution_count": 20,
     "metadata": {},
     "output_type": "execute_result"
    }
   ],
   "source": [
    "data.head()"
   ]
  },
  {
   "cell_type": "markdown",
   "metadata": {},
   "source": [
    "- Map target classes to numerical values\n",
    " "
   ]
  },
  {
   "cell_type": "code",
   "execution_count": 21,
   "metadata": {},
   "outputs": [
    {
     "name": "stdout",
     "output_type": "stream",
     "text": [
      "Target variable mapping:\n",
      "0    2\n",
      "1    0\n",
      "2    0\n",
      "3    0\n",
      "4    1\n",
      "Name: Target_Variable, dtype: int64\n"
     ]
    }
   ],
   "source": [
    "target_mapping = {'Low': 0, 'Medium': 1, 'High': 2}\n",
    "data['Target_Variable'] = data['Target_Variable'].map(target_mapping)\n",
    "\n",
    "# Verify the mapping\n",
    "print(\"Target variable mapping:\")\n",
    "print(data['Target_Variable'].head())\n"
   ]
  },
  {
   "cell_type": "markdown",
   "metadata": {},
   "source": [
    "- Scaling numerical columns **Age and Annual_income** using StandardScaler"
   ]
  },
  {
   "cell_type": "code",
   "execution_count": 22,
   "metadata": {},
   "outputs": [
    {
     "name": "stdout",
     "output_type": "stream",
     "text": [
      "Scaled numerical columns:\n",
      "        Age  Annual_Income\n",
      "0  1.419282       0.281403\n",
      "1 -1.228632      -0.060788\n",
      "2  1.551678       0.849725\n",
      "3 -0.765247      -1.095054\n",
      "4 -1.559622      -1.035406\n"
     ]
    }
   ],
   "source": [
    "from sklearn.preprocessing import StandardScaler\n",
    "\n",
    "# Initialize the StandardScaler\n",
    "scaler = StandardScaler()\n",
    "\n",
    "# Scale the numerical columns Age and Annual_Income\n",
    "numerical_cols = ['Age', 'Annual_Income']\n",
    "data[numerical_cols] = scaler.fit_transform(data[numerical_cols])\n",
    "\n",
    "# Verify the scaling\n",
    "print(\"Scaled numerical columns:\")\n",
    "print(data[numerical_cols].head())"
   ]
  },
  {
   "cell_type": "code",
   "execution_count": 23,
   "metadata": {},
   "outputs": [
    {
     "data": {
      "text/plain": [
       "(1000, 53)"
      ]
     },
     "execution_count": 23,
     "metadata": {},
     "output_type": "execute_result"
    }
   ],
   "source": [
    "data.shape"
   ]
  },
  {
   "cell_type": "markdown",
   "metadata": {},
   "source": [
    "As there are now **more than 53 features** we need to apply some dimension reduction techniques like **PCA so that the training time for model buidling reduces significantly.**"
   ]
  },
  {
   "cell_type": "markdown",
   "metadata": {},
   "source": [
    "- Dimensionality reduction using PCA"
   ]
  },
  {
   "cell_type": "code",
   "execution_count": 24,
   "metadata": {},
   "outputs": [
    {
     "data": {
      "text/html": [
       "<div>\n",
       "<style scoped>\n",
       "    .dataframe tbody tr th:only-of-type {\n",
       "        vertical-align: middle;\n",
       "    }\n",
       "\n",
       "    .dataframe tbody tr th {\n",
       "        vertical-align: top;\n",
       "    }\n",
       "\n",
       "    .dataframe thead th {\n",
       "        text-align: right;\n",
       "    }\n",
       "</style>\n",
       "<table border=\"1\" class=\"dataframe\">\n",
       "  <thead>\n",
       "    <tr style=\"text-align: right;\">\n",
       "      <th></th>\n",
       "      <th>PCA1</th>\n",
       "      <th>PCA2</th>\n",
       "    </tr>\n",
       "  </thead>\n",
       "  <tbody>\n",
       "    <tr>\n",
       "      <th>0</th>\n",
       "      <td>-4.346778</td>\n",
       "      <td>0.064113</td>\n",
       "    </tr>\n",
       "    <tr>\n",
       "      <th>1</th>\n",
       "      <td>1.639847</td>\n",
       "      <td>-1.808121</td>\n",
       "    </tr>\n",
       "    <tr>\n",
       "      <th>2</th>\n",
       "      <td>-13.357381</td>\n",
       "      <td>-0.814878</td>\n",
       "    </tr>\n",
       "    <tr>\n",
       "      <th>3</th>\n",
       "      <td>13.649790</td>\n",
       "      <td>1.069801</td>\n",
       "    </tr>\n",
       "    <tr>\n",
       "      <th>4</th>\n",
       "      <td>0.645327</td>\n",
       "      <td>-1.085712</td>\n",
       "    </tr>\n",
       "  </tbody>\n",
       "</table>\n",
       "</div>"
      ],
      "text/plain": [
       "        PCA1      PCA2\n",
       "0  -4.346778  0.064113\n",
       "1   1.639847 -1.808121\n",
       "2 -13.357381 -0.814878\n",
       "3  13.649790  1.069801\n",
       "4   0.645327 -1.085712"
      ]
     },
     "execution_count": 24,
     "metadata": {},
     "output_type": "execute_result"
    }
   ],
   "source": [
    "from sklearn.decomposition import PCA\n",
    "\n",
    "# Initialize PCA with 2 components\n",
    "pca = PCA(n_components=2) \n",
    "\n",
    "\n",
    "pca_df = data.drop('Target_Variable', axis=1)\n",
    "\n",
    "# Fit PCA on the data\n",
    "features_reduced = pca.fit_transform(pca_df)\n",
    "\n",
    "pca_df= pd.DataFrame()\n",
    "\n",
    "pca_df['PCA1'] = features_reduced[:, 0]\n",
    "pca_df['PCA2'] = features_reduced[:, 1]\n",
    "pca_df.head()\n"
   ]
  },
  {
   "cell_type": "code",
   "execution_count": 25,
   "metadata": {},
   "outputs": [
    {
     "data": {
      "text/plain": [
       "(1000, 2)"
      ]
     },
     "execution_count": 25,
     "metadata": {},
     "output_type": "execute_result"
    }
   ],
   "source": [
    "pca_df.shape"
   ]
  },
  {
   "cell_type": "markdown",
   "metadata": {},
   "source": [
    "<h5>Model Building</h5>"
   ]
  }
 ],
 "metadata": {
  "kernelspec": {
   "display_name": "Python 3",
   "language": "python",
   "name": "python3"
  },
  "language_info": {
   "codemirror_mode": {
    "name": "ipython",
    "version": 3
   },
   "file_extension": ".py",
   "mimetype": "text/x-python",
   "name": "python",
   "nbconvert_exporter": "python",
   "pygments_lexer": "ipython3",
   "version": "3.11.4"
  }
 },
 "nbformat": 4,
 "nbformat_minor": 2
}
